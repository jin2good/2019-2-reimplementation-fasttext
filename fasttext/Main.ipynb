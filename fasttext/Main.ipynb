{
 "cells": [
  {
   "cell_type": "code",
   "execution_count": 2,
   "metadata": {},
   "outputs": [],
   "source": [
    "from pathlib import Path\n",
    "import os\n",
    "import numpy as np\n",
    "import json\n",
    "import time\n",
    "import copy\n",
    "import argparse\n",
    "from tqdm import tqdm\n",
    "import easydict\n",
    "import matplotlib.pyplot as plt\n",
    "from scipy.sparse import csr_matrix\n",
    "\n",
    "from sklearn.feature_extraction import FeatureHasher\n",
    "\n",
    "import torch\n",
    "import torch.nn as nn\n",
    "import torch.nn.functional as F\n",
    "import torch.optim as optim\n",
    "from torch.optim import lr_scheduler\n",
    "from torch.autograd import Variable\n",
    "from torch.utils.data import Dataset, DataLoader\n",
    "from torch.utils.data.sampler import SubsetRandomSampler"
   ]
  },
  {
   "cell_type": "code",
   "execution_count": 3,
   "metadata": {},
   "outputs": [],
   "source": [
    "from vocabulary import Vocabulary, make_vocabulary\n",
    "from dictionary import make_dictionary\n",
    "from glove import Glove"
   ]
  },
  {
   "cell_type": "markdown",
   "metadata": {},
   "source": [
    "#Loading Data"
   ]
  },
  {
   "cell_type": "code",
   "execution_count": 4,
   "metadata": {},
   "outputs": [],
   "source": [
    "with open('traindata.json') as jsonfile:\n",
    "    traindata = json.load(jsonfile)"
   ]
  },
  {
   "cell_type": "code",
   "execution_count": 5,
   "metadata": {},
   "outputs": [],
   "source": [
    "with open('testdata.json') as jsonfile:\n",
    "    testdata = json.load(jsonfile)"
   ]
  },
  {
   "cell_type": "markdown",
   "metadata": {},
   "source": [
    "#Making Vocabulary & Dictionary"
   ]
  },
  {
   "cell_type": "code",
   "execution_count": 6,
   "metadata": {},
   "outputs": [
    {
     "name": "stderr",
     "output_type": "stream",
     "text": [
      "100%|██████████| 120000/120000 [00:02<00:00, 44919.21it/s]\n"
     ]
    }
   ],
   "source": [
    "train_vocab = Vocabulary()\n",
    "train_vocab = make_vocabulary(traindata['train_X'],train_vocab)"
   ]
  },
  {
   "cell_type": "code",
   "execution_count": 7,
   "metadata": {},
   "outputs": [
    {
     "name": "stderr",
     "output_type": "stream",
     "text": [
      "100%|██████████| 120000/120000 [00:01<00:00, 74116.43it/s]\n"
     ]
    }
   ],
   "source": [
    "train_dict = make_dictionary(traindata['train_X'])"
   ]
  },
  {
   "cell_type": "code",
   "execution_count": 8,
   "metadata": {},
   "outputs": [
    {
     "name": "stderr",
     "output_type": "stream",
     "text": [
      "100%|██████████| 7600/7600 [00:00<00:00, 62325.79it/s]\n"
     ]
    }
   ],
   "source": [
    "test_dict = make_dictionary(testdata['test_X'])"
   ]
  },
  {
   "cell_type": "markdown",
   "metadata": {},
   "source": [
    "#feature Hashing"
   ]
  },
  {
   "cell_type": "code",
   "execution_count": null,
   "metadata": {},
   "outputs": [],
   "source": [
    "train_vocab.size()"
   ]
  },
  {
   "cell_type": "code",
   "execution_count": null,
   "metadata": {},
   "outputs": [],
   "source": [
    "VOCAB_SIZE = min(train_vocab.size(),1000)\n",
    "Hasher = FeatureHasher(n_features=VOCAB_SIZE) #논문에 10M 이라 되어있음"
   ]
  },
  {
   "cell_type": "code",
   "execution_count": null,
   "metadata": {},
   "outputs": [],
   "source": [
    "Hasher.fit(train_dict)"
   ]
  },
  {
   "cell_type": "markdown",
   "metadata": {},
   "source": [
    "#Word Embedding"
   ]
  },
  {
   "cell_type": "code",
   "execution_count": 9,
   "metadata": {},
   "outputs": [],
   "source": [
    "file = \"glove.6B.300d.txt\""
   ]
  },
  {
   "cell_type": "code",
   "execution_count": 10,
   "metadata": {},
   "outputs": [
    {
     "name": "stdout",
     "output_type": "stream",
     "text": [
      "Loading Glove Model\n",
      "Done. 400000  words loaded!\n"
     ]
    }
   ],
   "source": [
    "gl = Glove(file)"
   ]
  },
  {
   "cell_type": "code",
   "execution_count": 11,
   "metadata": {},
   "outputs": [],
   "source": [
    "VOCAB_SIZE = 300"
   ]
  },
  {
   "cell_type": "markdown",
   "metadata": {},
   "source": [
    "#Argument Parsing"
   ]
  },
  {
   "cell_type": "code",
   "execution_count": 12,
   "metadata": {},
   "outputs": [],
   "source": [
    "\"\"\"\n",
    "parser = argparse.ArgumentParser()\n",
    "\n",
    "parser.add_argument('--data_name', type = str, help = 'dataset name')\n",
    "parser.add_argument('--hidden_dim', type = int, default = 10, help = 'num of hidden nodes')\n",
    "parser.add_argument('--num_epoch', type = int, default = 20, help = 'num of epochs')\n",
    "parser.add_argument('--learning_rate', type = float, default = 1e-2, help = 'learning rate')\n",
    "parser.add_argument('--batch_size', type = int, default = 32, help = 'batch size')\n",
    "parser.add_argument('--momentum', type = float, default = 0.9, help = 'momentum')\n",
    "parser.add_argument('--val_split', type = float, default = 0.2, help = 'val_split')\n",
    "\n",
    "args = parser.parse_args()\n",
    "\"\"\"\n",
    "args = easydict.EasyDict({\n",
    "        \"hidden_dim\": 10,\n",
    "        \"num_epoch\": 200,\n",
    "        \"learning_rate\": 1e-4,\n",
    "        \"batch_size\": 32,\n",
    "        \"momentum\": 0.9,\n",
    "        \"val_split\": 0.2\n",
    "})"
   ]
  },
  {
   "cell_type": "markdown",
   "metadata": {},
   "source": [
    "#Model"
   ]
  },
  {
   "cell_type": "code",
   "execution_count": null,
   "metadata": {},
   "outputs": [],
   "source": [
    "class TrainDataset(Dataset):\n",
    "    \n",
    "    def __init__(self):\n",
    "\n",
    "        #self.H = Hasher.transform(train_dict)\n",
    "        self.H = csr_matrix(gl.Transform(train_dict))\n",
    "        self.y_data = torch.from_numpy(np.array(traindata['train_Y'])).type(torch.long)\n",
    "        \n",
    "    def __getitem__(self,index):\n",
    "        return torch.from_numpy(self.H[index].toarray()[0]), self.y_data[index]\n",
    "    \n",
    "    def __len__(self):\n",
    "        return self.H.shape[0]"
   ]
  },
  {
   "cell_type": "code",
   "execution_count": null,
   "metadata": {},
   "outputs": [],
   "source": [
    "class TestDataset(Dataset):\n",
    "    \n",
    "    def __init__(self):\n",
    "\n",
    "        #self.H = Hasher.transform(test_dict)\n",
    "        self.H = csr_matrix(gl.Transform(test_dict))\n",
    "        self.y_data = torch.from_numpy(np.array(testdata['test_Y'])).type(torch.long)\n",
    "        \n",
    "    def __getitem__(self,index):\n",
    "        return torch.from_numpy(self.H[index].toarray()[0]), self.y_data[index]\n",
    "    \n",
    "    def __len__(self):\n",
    "        return self.H.shape[0]  "
   ]
  },
  {
   "cell_type": "code",
   "execution_count": null,
   "metadata": {},
   "outputs": [],
   "source": [
    "def split_Data(dataset,val_split,batch_size):\n",
    "\n",
    "    dataset_size = len(dataset)\n",
    "    indices = list(range(dataset_size))\n",
    "    split = int(np.floor(val_split * dataset_size))\n",
    "    random_seed = 42\n",
    "    np.random.seed(random_seed)\n",
    "    np.random.shuffle(indices)\n",
    "    train_indices, val_indices = indices[split:], indices[:split]\n",
    "\n",
    "    train_sampler = SubsetRandomSampler(train_indices)\n",
    "    valid_sampler = SubsetRandomSampler(val_indices)\n",
    "\n",
    "    train_loader = DataLoader(dataset=dataset, batch_size=batch_size, num_workers=0, sampler = train_sampler)\n",
    "    valid_loader = DataLoader(dataset=dataset, batch_size=batch_size, num_workers=0, sampler = valid_sampler)\n",
    "\n",
    "    dataloaders= {'train':train_loader,'val':valid_loader}\n",
    "\n",
    "    return dataloaders\n"
   ]
  },
  {
   "cell_type": "code",
   "execution_count": null,
   "metadata": {},
   "outputs": [],
   "source": [
    "class TextClassifier(nn.Module):\n",
    "    def __init__(self,vocab_size,hidden_dim,num_class):\n",
    "        super(TextClassifier,self).__init__()\n",
    "        #self.embedding = nn.EmbeddingBag(vocab_size, hidden_dim, sparse=True)\n",
    "        self.input_layer = nn.Linear(vocab_size,hidden_dim)\n",
    "        self.hidden_layer = nn.Linear(hidden_dim, num_class)\n",
    "        self.output_layer = nn.Softmax(dim=1)\n",
    "        \n",
    "    def forward(self,text):\n",
    "        embedded = self.input_layer(text)\n",
    "        output = self.hidden_layer(embedded)\n",
    "        return self.output_layer(output)"
   ]
  },
  {
   "cell_type": "code",
   "execution_count": null,
   "metadata": {},
   "outputs": [],
   "source": [
    "def train_model(model, criterion, optimizer, scheduler, num_epochs):\n",
    "    since = time.time()\n",
    "    best_model_wts = copy.deepcopy(model.state_dict())\n",
    "    best_acc = 0.0 \n",
    "    \n",
    "    training_accuracy = []\n",
    "    validation_accuracy = []\n",
    "    \n",
    "    for epoch in range(num_epochs):\n",
    "        print('Epoch {}/{}'.format(epoch+1, num_epochs))\n",
    "        print('-' * 10)\n",
    "\n",
    "        for phase in ['train','val']:\n",
    "            if phase == 'train':\n",
    "                print(\"train phase\")\n",
    "                model.train()\n",
    "            else:\n",
    "                print(\"validation phase\")\n",
    "                model.eval()\n",
    "\n",
    "            running_loss = 0.0\n",
    "            running_corrects = 0\n",
    "            count = 0\n",
    "            for inputs,labels in dataloaders[phase]:\n",
    "                #now = time.time()\n",
    "                #print('{:.0f}m {:.0f}s'.format( (now-since) // 60, (now-since) % 60))\n",
    "                count += len(inputs)\n",
    "                inputs,labels = inputs.to(device),labels.to(device)\n",
    "                inputs,labels = Variable(inputs.float()), Variable(labels)\n",
    "                \n",
    "                optimizer.zero_grad()\n",
    "                \n",
    "                with torch.set_grad_enabled(phase == 'train'):\n",
    "                    outputs = model(inputs.float())\n",
    "                    _, preds = torch.max(outputs, 1)\n",
    "                    loss = criterion(outputs, labels)\n",
    "                    \n",
    "                    if phase =='train':\n",
    "                        loss.backward()\n",
    "                        optimizer.step()\n",
    "                        \n",
    "                \n",
    "                running_loss += loss.item() * inputs.size(0)\n",
    "                running_corrects += torch.sum(preds == labels.data)\n",
    "                            \n",
    "            epoch_loss = running_loss / count\n",
    "            epoch_acc = running_corrects.double() / count\n",
    "            \n",
    "            print('{} Loss: {:.4f} Acc: {:.4f}'.format(\n",
    "                phase, epoch_loss, epoch_acc))\n",
    "            if phase == 'train':\n",
    "                training_accuracy.append(epoch_acc)\n",
    "            if phase == 'val':\n",
    "                validation_accuracy.append(epoch_acc)\n",
    "            \n",
    "            #scheduler.step()\n",
    "\n",
    "            if phase == 'val' and epoch_acc > best_acc:\n",
    "                best_acc = epoch_acc\n",
    "                best_model_wts = copy.deepcopy(model.state_dict())\n",
    "                \n",
    "        time_elapsed = time.time() - since\n",
    "        print('Training Epoch complete in {:.0f}m {:.0f}s'.format(\n",
    "            time_elapsed // 60, time_elapsed % 60))\n",
    "        print()\n",
    "        \n",
    "    print('Best val Acc: {:4f}'.format(best_acc))\n",
    "    \n",
    "    plt.plot([i for i in range(num_epochs)],training_accuracy)\n",
    "    plt.plot([i for i in range(num_epochs)],validation_accuracy)\n",
    "    plt.show()\n",
    "    \n",
    "    model.load_state_dict(best_model_wts)\n",
    "    return model"
   ]
  },
  {
   "cell_type": "code",
   "execution_count": null,
   "metadata": {},
   "outputs": [],
   "source": [
    "device = torch.device('cuda' if torch.cuda.is_available() else 'cpu')\n",
    "\n",
    "HIDDEN_DIM = args.hidden_dim\n",
    "NUM_CLASS = len(set(testdata['test_Y']))\n",
    "NUM_EPOCH = args.num_epoch\n",
    "LEARN_RATE = args.learning_rate\n",
    "BATCH_SIZE = args.batch_size\n",
    "MOMENTUM = args.momentum\n",
    "VAL_SPLIT = args.val_split\n",
    "\n",
    "dataloaders= split_Data(TrainDataset(),VAL_SPLIT,BATCH_SIZE)\n",
    "\n",
    "model = TextClassifier(VOCAB_SIZE,HIDDEN_DIM,NUM_CLASS).to(device)\n",
    "criterion = nn.NLLLoss()\n",
    "optimizer = torch.optim.SGD(model.parameters(), lr=LEARN_RATE, momentum = MOMENTUM)\n",
    "scheduler = lr_scheduler.StepLR(optimizer, step_size=5, gamma=0.1)\n",
    "\n",
    "best_model = train_model(model, criterion, optimizer, scheduler, NUM_EPOCH)\n",
    "\n",
    "model_name = str(NUM_EPOCH) + \"_\" + str(LEARN_RATE) + \"_\" + str(HIDDEN_DIM) + \"_\" + '_model.pth'\n",
    "torch.save(best_model.state_dict(), os.path.join('model',model_name))"
   ]
  },
  {
   "cell_type": "code",
   "execution_count": null,
   "metadata": {},
   "outputs": [],
   "source": []
  }
 ],
 "metadata": {
  "kernelspec": {
   "display_name": "Python 3",
   "language": "python",
   "name": "python3"
  },
  "language_info": {
   "codemirror_mode": {
    "name": "ipython",
    "version": 3
   },
   "file_extension": ".py",
   "mimetype": "text/x-python",
   "name": "python",
   "nbconvert_exporter": "python",
   "pygments_lexer": "ipython3",
   "version": "3.7.5"
  }
 },
 "nbformat": 4,
 "nbformat_minor": 4
}
