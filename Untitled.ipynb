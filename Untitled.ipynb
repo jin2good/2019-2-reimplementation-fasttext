{
 "cells": [
  {
   "cell_type": "code",
   "execution_count": 61,
   "metadata": {},
   "outputs": [],
   "source": [
    "import numpy as np\n",
    "from sklearn.feature_extraction import FeatureHasher"
   ]
  },
  {
   "cell_type": "code",
   "execution_count": 36,
   "metadata": {},
   "outputs": [],
   "source": [
    "from pathlib import Path\n",
    "import os\n",
    "cwd = os.getcwd()\n",
    "\n",
    "datafolder = Path('ag_news_csv')\n",
    "test_data_csv = datafolder / 'test.csv'\n",
    "train_data_csv = datafolder / 'train.csv'\n",
    "\n"
   ]
  },
  {
   "cell_type": "code",
   "execution_count": 40,
   "metadata": {},
   "outputs": [
    {
     "name": "stderr",
     "output_type": "stream",
     "text": [
      "[nltk_data] Downloading package punkt to /Users/jin/nltk_data...\n",
      "[nltk_data]   Unzipping tokenizers/punkt.zip.\n"
     ]
    },
    {
     "data": {
      "text/plain": [
       "True"
      ]
     },
     "execution_count": 40,
     "metadata": {},
     "output_type": "execute_result"
    }
   ],
   "source": [
    "import nltk\n",
    "nltk.download('punkt')"
   ]
  },
  {
   "cell_type": "code",
   "execution_count": 41,
   "metadata": {},
   "outputs": [],
   "source": [
    "# %load preprocessing.py\n",
    "import pandas as pd\n",
    "\n",
    "test_data = pd.read_csv(test_data_csv,names = [\"class\",\"title\",\"body\"])\n",
    "train_data = pd.read_csv(train_data_csv,names = [\"class\",\"title\",\"body\"])\n",
    "\n",
    "\n",
    "def tokenize(txt):\n",
    "    tokens = [word for sent in nltk.sent_tokenize(txt)\n",
    "              for word in nltk.word_tokenize(sent)]\n",
    "    #print(type(tokens))\n",
    "    return tokens\n",
    "\n",
    "def bigram(tokens):\n",
    "    \n",
    "    bigram =[]\n",
    "    \n",
    "    for i in range(len(tokens) -1):\n",
    "        bigram.append(tokens[i] + \" \" +tokens[i+1])\n",
    "    return bigram\n",
    "\n",
    "train_X, train_Y = [],[]\n",
    "\n",
    "test_X, test_Y = [],[]\n",
    "\n",
    "for i, row in test_data.iterrows():\n",
    "    #print(type(tokenize(row['title'])))\n",
    "    tokens = tokenize(row['title']) + tokenize(row['body'])\n",
    "    \n",
    "    test_X.append(tokens)\n",
    "    test_Y.append(row['class']-1)\n",
    "    \n",
    "\n",
    "for i, row in train_data.iterrows():\n",
    "    #print(type(tokenize(row['title'])))\n",
    "    tokens = tokenize(row['title']) + tokenize(row['body'])\n",
    "    \n",
    "    train_X.append(tokens)\n",
    "    train_Y.append(row['class']-1)\n",
    "    \n"
   ]
  },
  {
   "cell_type": "code",
   "execution_count": 69,
   "metadata": {
    "scrolled": true
   },
   "outputs": [],
   "source": [
    "def makedict(sentence):\n",
    "    word_dict = {}\n",
    "    for word in sentence:\n",
    "        if word in word_dict:\n",
    "            word_dict[word] += 1\n",
    "        else:\n",
    "            word_dict[word] = 1\n",
    "    return word_dict"
   ]
  },
  {
   "cell_type": "code",
   "execution_count": 76,
   "metadata": {},
   "outputs": [],
   "source": [
    "#feature hashing\n",
    "\n",
    "test_X_dictionary = [makedict(sentence) for sentence in test_X]\n",
    "train_X_dictionary = [makedict(sentence) for sentence in train_X]\n",
    "\n",
    "#feature 개수 어캐 구하지?\n",
    "Hasher = FeatureHasher(n_features=50000).fit(train_X_dictionary)"
   ]
  },
  {
   "cell_type": "code",
   "execution_count": 7,
   "metadata": {},
   "outputs": [
    {
     "name": "stdout",
     "output_type": "stream",
     "text": [
      "<torchtext.datasets.text_classification.TextClassificationDataset object at 0x125a2efd0>\n"
     ]
    }
   ],
   "source": [
    "import torch\n",
    "\n",
    "class TrainDataset(Dataset):\n",
    "    \n",
    "    def __init__(self):\n",
    "\n",
    "        self.H = Hasher.transform(train_Xd)\n",
    "        self.y_data = torch.from_numpy(np.array(dataDict['train_Y']))\n",
    "        \n",
    "    def __getitem__(self,index):\n",
    "        return torch.from_numpy(self.H[index].toarray()[0]), self.y_data[index]\n",
    "    \n",
    "    def __len__(self):\n",
    "        return self.H.shape[0]"
   ]
  },
  {
   "cell_type": "code",
   "execution_count": null,
   "metadata": {},
   "outputs": [],
   "source": []
  }
 ],
 "metadata": {
  "kernelspec": {
   "display_name": "Python 3",
   "language": "python",
   "name": "python3"
  },
  "language_info": {
   "codemirror_mode": {
    "name": "ipython",
    "version": 3
   },
   "file_extension": ".py",
   "mimetype": "text/x-python",
   "name": "python",
   "nbconvert_exporter": "python",
   "pygments_lexer": "ipython3",
   "version": "3.7.5"
  }
 },
 "nbformat": 4,
 "nbformat_minor": 2
}
